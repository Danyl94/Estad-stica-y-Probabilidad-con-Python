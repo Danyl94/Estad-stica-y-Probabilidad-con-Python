{
 "cells": [
  {
   "cell_type": "markdown",
   "id": "e41f1da6",
   "metadata": {},
   "source": [
    "<h2><font color=\"#004D7F\" size=6>Estadística Descriptiva</font></h2>\n",
    "\n",
    "\n",
    "\n",
    "<br><br>\n",
    "<div style=\"text-align: right\">\n",
    "<font color=\"#004D7F\" size=3>Danyela Luengas</font><br>\n",
    "<font color=\"#004D7F\" size=3>Estadística con Python</font><br>"
   ]
  },
  {
   "cell_type": "code",
   "execution_count": 1,
   "id": "01f63687",
   "metadata": {},
   "outputs": [],
   "source": [
    "\n",
    "\n",
    "import cv2 as cv\n",
    "import numpy as np\n",
    "import matplotlib.pyplot as plt\n",
    "from PIL import Image, ImageDraw\n",
    "from matplotlib import style\n",
    "import matplotlib.ticker as ticker\n",
    "import seaborn as sns\n",
    "import pandas as pd\n",
    "import statistics as stat"
   ]
  },
  {
   "cell_type": "code",
   "execution_count": 2,
   "id": "bf1373ba",
   "metadata": {},
   "outputs": [
    {
     "data": {
      "text/html": [
       "<div>\n",
       "<style scoped>\n",
       "    .dataframe tbody tr th:only-of-type {\n",
       "        vertical-align: middle;\n",
       "    }\n",
       "\n",
       "    .dataframe tbody tr th {\n",
       "        vertical-align: top;\n",
       "    }\n",
       "\n",
       "    .dataframe thead th {\n",
       "        text-align: right;\n",
       "    }\n",
       "</style>\n",
       "<table border=\"1\" class=\"dataframe\">\n",
       "  <thead>\n",
       "    <tr style=\"text-align: right;\">\n",
       "      <th></th>\n",
       "      <th>Clase</th>\n",
       "      <th>FrecuenciaAbsoluta</th>\n",
       "      <th>FrecuenciaAbsolutaacumulada</th>\n",
       "      <th>FrecuenciaRelativa</th>\n",
       "      <th>FrecuenciaRelativaAcumulada</th>\n",
       "    </tr>\n",
       "  </thead>\n",
       "  <tbody>\n",
       "    <tr>\n",
       "      <th>0</th>\n",
       "      <td>Muy satisfechQ</td>\n",
       "      <td>10</td>\n",
       "      <td>10.0</td>\n",
       "      <td>0.40</td>\n",
       "      <td>0.016</td>\n",
       "    </tr>\n",
       "    <tr>\n",
       "      <th>1</th>\n",
       "      <td>satisfechQ</td>\n",
       "      <td>7</td>\n",
       "      <td>17.0</td>\n",
       "      <td>0.28</td>\n",
       "      <td>17/25</td>\n",
       "    </tr>\n",
       "    <tr>\n",
       "      <th>2</th>\n",
       "      <td>Medianamente satiifechQ</td>\n",
       "      <td>5</td>\n",
       "      <td>22.0</td>\n",
       "      <td>0.20</td>\n",
       "      <td>22/25</td>\n",
       "    </tr>\n",
       "    <tr>\n",
       "      <th>3</th>\n",
       "      <td>Descontento</td>\n",
       "      <td>3</td>\n",
       "      <td>25.0</td>\n",
       "      <td>0.12</td>\n",
       "      <td>25/25</td>\n",
       "    </tr>\n",
       "    <tr>\n",
       "      <th>4</th>\n",
       "      <td>Totales</td>\n",
       "      <td>25</td>\n",
       "      <td>0.0</td>\n",
       "      <td>1.00</td>\n",
       "      <td>0</td>\n",
       "    </tr>\n",
       "  </tbody>\n",
       "</table>\n",
       "</div>"
      ],
      "text/plain": [
       "                     Clase  FrecuenciaAbsoluta  FrecuenciaAbsolutaacumulada  \\\n",
       "0           Muy satisfechQ                  10                         10.0   \n",
       "1               satisfechQ                   7                         17.0   \n",
       "2  Medianamente satiifechQ                   5                         22.0   \n",
       "3              Descontento                   3                         25.0   \n",
       "4                  Totales                  25                          0.0   \n",
       "\n",
       "   FrecuenciaRelativa FrecuenciaRelativaAcumulada  \n",
       "0                0.40                       0.016  \n",
       "1                0.28                       17/25  \n",
       "2                0.20                       22/25  \n",
       "3                0.12                       25/25  \n",
       "4                1.00                           0  "
      ]
     },
     "execution_count": 2,
     "metadata": {},
     "output_type": "execute_result"
    }
   ],
   "source": [
    "Tab_frecuencia= pd.read_csv(\"Frecuencia.csv\")\n",
    "Tab_frecuencia = Tab_frecuencia.fillna(0)\n",
    "Tab_frecuencia.iloc[:,[2]]\n",
    "Tab_frecuencia[['FrecuenciaAbsoluta']]\n",
    "Data_fre=np.array(Tab_frecuencia)\n",
    "Data_fre=np.delete(Data_fre, -1, 0)\n",
    "Data_fre\n",
    "Tab_frecuencia"
   ]
  },
  {
   "cell_type": "code",
   "execution_count": 3,
   "id": "d6cd3ebb",
   "metadata": {},
   "outputs": [
    {
     "data": {
      "text/plain": [
       "([<matplotlib.patches.Wedge at 0x1bd3ae189d0>,\n",
       "  <matplotlib.patches.Wedge at 0x1bd3b4d23a0>,\n",
       "  <matplotlib.patches.Wedge at 0x1bd3b4d2d30>,\n",
       "  <matplotlib.patches.Wedge at 0x1bd3b4e1700>],\n",
       " [Text(0.35536952305099184, 1.093715000393846, 'Muy satisfechQ'),\n",
       "  Text(-1.0654414659720242, -0.27355891977302504, 'satisfechQ'),\n",
       "  Text(0.20611950472011625, -1.0805159646085447, 'Medianamente satiifechQ'),\n",
       "  Text(1.0227541568457088, -0.40493695145642544, 'Descontento')],\n",
       " [Text(0.2008610347679519, 0.6181867393530434, '40.0%'),\n",
       "  Text(-0.581149890530195, -0.14921395623983183, '28.0%'),\n",
       "  Text(0.11242882075642703, -0.5893723443319334, '20.0%'),\n",
       "  Text(0.5578659037340229, -0.22087470079441385, '12.0%')])"
      ]
     },
     "execution_count": 3,
     "metadata": {},
     "output_type": "execute_result"
    },
    {
     "data": {
      "image/png": "[encoded data removed]",
      "text/plain": [
       "<Figure size 432x432 with 1 Axes>"
      ]
     },
     "metadata": {},
     "output_type": "display_data"
    }
   ],
   "source": [
    "plt.figure(figsize=(6,6))\n",
    "plt.pie(Data_fre[:,1] , labels=Data_fre[:,0], autopct='%1.1f%%',shadow=True, explode=(0.05,0,0,0) )"
   ]
  },
  {
   "cell_type": "code",
   "execution_count": 4,
   "id": "9c72a2b2",
   "metadata": {},
   "outputs": [],
   "source": [
    "cmap= plt.cm.magma\n",
    "color =[cmap(0.2), cmap(0.4),cmap(0.6), cmap(0.8)]"
   ]
  },
  {
   "cell_type": "code",
   "execution_count": 5,
   "id": "5c6562b3",
   "metadata": {},
   "outputs": [
    {
     "data": {
      "image/png": "[encoded data removed]",
      "text/plain": [
       "<Figure size 432x288 with 1 Axes>"
      ]
     },
     "metadata": {
      "needs_background": "light"
     },
     "output_type": "display_data"
    }
   ],
   "source": [
    "fig = plt.figure()\n",
    "ax = fig.add_axes([0,0,1,1])\n",
    "ax.bar(Data_fre[:,0], Data_fre[:,1], color=color, alpha=0.2, edgecolor=color, linewidth=2)\n",
    "plt.show()"
   ]
  },
  {
   "cell_type": "markdown",
   "id": "64764b26",
   "metadata": {},
   "source": [
    "## Ejercicio 2 \n",
    "\n",
    "Una muestra de la variable aleatoria\n",
    "\n",
    "X= 'peso en kg'\n",
    "\n",
    "para \n",
    "n=7 : numero de personas\n"
   ]
  },
  {
   "cell_type": "code",
   "execution_count": 6,
   "id": "02639ca8",
   "metadata": {},
   "outputs": [],
   "source": [
    "peso=[55, 87,74,70,82,62,59]\n",
    "persona=[['x1', 'x2', 'x3', 'x4 ','x5','x6', 'x7']]\n",
    "\n",
    "dt=pd.DataFrame(peso, persona )\n"
   ]
  },
  {
   "cell_type": "markdown",
   "id": "d6baeba7",
   "metadata": {},
   "source": [
    "## Medidas de centralizacion "
   ]
  },
  {
   "cell_type": "code",
   "execution_count": 7,
   "id": "e5c4814a",
   "metadata": {},
   "outputs": [
    {
     "name": "stdout",
     "output_type": "stream",
     "text": [
      "Forma habitual de clacular la media:  69.85714285714286\n",
      "Usando numpy clacular la media:  69.85714285714286\n"
     ]
    }
   ],
   "source": [
    "# media \n",
    "media=np.sum(peso)/len(peso)\n",
    "print('Forma habitual de clacular la media: ', media)\n",
    "\n",
    "med=np.mean(peso)\n",
    "print('Usando numpy clacular la media: ', media)\n",
    "\n"
   ]
  },
  {
   "cell_type": "code",
   "execution_count": 8,
   "id": "bd7caed6",
   "metadata": {},
   "outputs": [
    {
     "name": "stdout",
     "output_type": "stream",
     "text": [
      "Mediana: 70.0\n"
     ]
    },
    {
     "data": {
      "text/plain": [
       "[55, 59, 62, 70, 74, 82, 87]"
      ]
     },
     "execution_count": 8,
     "metadata": {},
     "output_type": "execute_result"
    }
   ],
   "source": [
    "#mediana\n",
    "mediana= np.median(peso)\n",
    "print( 'Mediana:', mediana)\n",
    "\n",
    "# organizar los datos \n",
    "peso.sort()\n",
    "peso"
   ]
  },
  {
   "cell_type": "markdown",
   "id": "79ebcba1",
   "metadata": {},
   "source": [
    "## Medidas de dispersión \n",
    "varianza y desviacion  "
   ]
  },
  {
   "cell_type": "code",
   "execution_count": 9,
   "id": "a6519702",
   "metadata": {},
   "outputs": [
    {
     "name": "stdout",
     "output_type": "stream",
     "text": [
      " varianza 122.6938775510204\n",
      "varianza con numpy 122.6938775510204\n",
      "varianza con numpy 122.69\n"
     ]
    }
   ],
   "source": [
    "#Varianza\n",
    "varianza=[]\n",
    "\n",
    "for i in peso :\n",
    "    var=((i- med)**2)/len(peso)\n",
    "    varianza.append(var)\n",
    "    \n",
    "#print(varianza)\n",
    "Varianza=np.sum(varianza)\n",
    "print(' varianza', Varianza)\n",
    "var= np.var(peso)\n",
    "print('varianza con numpy', var)\n",
    "print(f'varianza con numpy', '%.2f'% np.var(peso))\n"
   ]
  },
  {
   "cell_type": "code",
   "execution_count": 10,
   "id": "0259116e",
   "metadata": {},
   "outputs": [
    {
     "name": "stdout",
     "output_type": "stream",
     "text": [
      "desviación numpy 11.08\n",
      "desviación  11.08\n"
     ]
    }
   ],
   "source": [
    "#Desviación\n",
    "print(f'desviación numpy', '%.2f'%np.std(peso))\n",
    "\n",
    "print(f'desviación ', '%.2f'%np.sqrt(Varianza))\n"
   ]
  },
  {
   "cell_type": "markdown",
   "id": "17fb12ab",
   "metadata": {},
   "source": [
    "## Datos agrupados \n",
    "Se solicita a un grupo de 50 personas informacion sobre el numro de que dedica a dormir a diario "
   ]
  },
  {
   "cell_type": "code",
   "execution_count": 11,
   "id": "ab111359",
   "metadata": {},
   "outputs": [],
   "source": [
    "xi=[6, 7, 8, 9, 10]\n",
    "FA=[3, 16, 20,10,1] # frecuencia absoluta "
   ]
  },
  {
   "cell_type": "code",
   "execution_count": 12,
   "id": "85b35236",
   "metadata": {},
   "outputs": [
    {
     "name": "stdout",
     "output_type": "stream",
     "text": [
      "[18, 112, 160, 90, 10]\n",
      "media: 7.8\n"
     ]
    }
   ],
   "source": [
    "#medidas de centralización \n",
    "product = [x*y for x,y in zip(xi,FA)] # agrupe dos listas con zip \n",
    "print(product)\n",
    "a= np.sum(product)/np.sum(FA) \n",
    "print(f'media:',  a )\n"
   ]
  },
  {
   "cell_type": "code",
   "execution_count": 13,
   "id": "e402ecfb",
   "metadata": {},
   "outputs": [
    {
     "name": "stdout",
     "output_type": "stream",
     "text": [
      "mediana: 8.0\n"
     ]
    }
   ],
   "source": [
    "print(f'mediana:',  np.median(xi))\n"
   ]
  },
  {
   "cell_type": "markdown",
   "id": "fc160bed",
   "metadata": {},
   "source": [
    "$$Var=\\frac{\\sum (x1^2*FA)}{\\sum(FA)} - \\bar{(xi*FA)} 2)$$\n",
    "$$Var=\\frac{\\sum (x1^2*FA)- \\sum (xi*FA)^2)} {\\sum(FA)})$$"
   ]
  },
  {
   "cell_type": "code",
   "execution_count": 14,
   "id": "422038a3",
   "metadata": {},
   "outputs": [
    {
     "name": "stdout",
     "output_type": "stream",
     "text": [
      "varainza: 0.8000000000000043\n",
      "Desviación: 0.8944271909999183\n"
     ]
    },
    {
     "data": {
      "text/plain": [
       "7.8"
      ]
     },
     "execution_count": 14,
     "metadata": {},
     "output_type": "execute_result"
    }
   ],
   "source": [
    "#varinza \n",
    "#Var=(x1^2*FA)/sum(FA - mean(xi*FA) 2)\n",
    "\n",
    "xi2=[i*j for i, j in zip(xi,xi) ]\n",
    "product2=[x*y for x, y in zip(xi2, FA)]\n",
    "b=np.sum(product2)/np.sum(FA)\n",
    "c=b-a**2\n",
    "print('varainza:', c )\n",
    "print(f'Desviación:', np.sqrt(c))\n",
    "np.sum(product)/np.sum(FA) "
   ]
  },
  {
   "cell_type": "markdown",
   "id": "18504a00",
   "metadata": {},
   "source": [
    "## Datos agurpados \n",
    "Los datos de peso de kg de 100 personas "
   ]
  },
  {
   "cell_type": "code",
   "execution_count": 19,
   "id": "7f21f82b",
   "metadata": {},
   "outputs": [
    {
     "name": "stdout",
     "output_type": "stream",
     "text": [
      "[61.5, 64.5, 67.5, 70.5, 73.5]\n",
      "[307.5, 1161.0, 2835.0, 1903.5, 588.0]\n"
     ]
    }
   ],
   "source": [
    "Intervalo=[[60,63], [63,66], [66,69],[69,72],[72,75]]\n",
    "FAn=[5,18,42,27,8] # 5 individuos que pesaan \n",
    "\n",
    "#x_marcaClase=\n",
    "Int=np.array(Intervalo)\n",
    "pesos=pd.DataFrame( Intervalo)\n",
    "x_marcaClase=[]\n",
    "for i in Int:\n",
    "    s=np.sum(i)/2\n",
    "    x_marcaClase.append(s)\n",
    "print(x_marcaClase)   \n",
    "xn=[i*j for i, j in zip(x_marcaClase, FAn)]\n",
    "print(xn)\n",
    "\n"
   ]
  },
  {
   "cell_type": "code",
   "execution_count": 20,
   "id": "a1a02e95",
   "metadata": {},
   "outputs": [],
   "source": [
    "Pesos = tuple(zip(Intervalo, xn, FAn, x_marcaClase))\n",
    "Pesos \n",
    "PEsos=tuple(zip(Int, xn, FAn, x_marcaClase))\n"
   ]
  },
  {
   "cell_type": "code",
   "execution_count": 21,
   "id": "be9f5b1c",
   "metadata": {},
   "outputs": [
    {
     "name": "stdout",
     "output_type": "stream",
     "text": [
      "media 67.95\n"
     ]
    }
   ],
   "source": [
    "mepesos=np.sum(xn)/np.sum(FAn)\n",
    "print(f'media',  mepesos)"
   ]
  },
  {
   "cell_type": "code",
   "execution_count": 22,
   "id": "782188c8",
   "metadata": {},
   "outputs": [
    {
     "data": {
      "text/plain": [
       "96.18451018745169"
      ]
     },
     "execution_count": 22,
     "metadata": {},
     "output_type": "execute_result"
    }
   ],
   "source": [
    "xx=[i*i for i in  x_marcaClase]\n",
    "\n",
    "xxFA=[i*j for i, j in zip(xx, FAn)]\n",
    "Va=np.sum(xxFA)/np.sum(FA)\n",
    "stdevi=np.sqrt(Va)\n",
    "stdevi"
   ]
  },
  {
   "cell_type": "markdown",
   "id": "605e0c74",
   "metadata": {},
   "source": [
    "# medidas de Posición \n",
    "División de las muestra así:\n",
    "\n",
    "1.  Cuartiles (25%, 50%,75% ,100% ) cuatro partes iguales \n",
    "2.  Quintiles (20%, 40%, 60%,80%, 100%)Cincos partes iguales \n",
    "3.  Deciles   (10%, 20%...90%, 100% ) diez partes iguales \n",
    "4.  Percentiles (1%, 2%, 3%, 4%,... ,99%, 100%)Cien partes iguales \n",
    "\n",
    "Para calcular las mediad de posucion es encesario que los datos esten de menor a mayor "
   ]
  },
  {
   "cell_type": "markdown",
   "id": "31bcaa09",
   "metadata": {},
   "source": [
    "## Cuariles\n",
    "\n",
    "List=[1,2,3,4,5]            &          List2=[1,2,3,4,5, 6]\n",
    "\n",
    "\n",
    "Q1=2 o 1.5                               Q1=2 o 2.5\n",
    "\n",
    "\n",
    "Q2= 3                                    Q2=3,4 o 3.5 \n",
    "\n",
    "Q3= 4 o 4.5                              Q3= 5 o 5.5"
   ]
  },
  {
   "cell_type": "code",
   "execution_count": 23,
   "id": "573c9ccd",
   "metadata": {},
   "outputs": [
    {
     "name": "stdout",
     "output_type": "stream",
     "text": [
      "Primer cuartil : 1.5\n",
      "3.0\n",
      "4.5\n"
     ]
    }
   ],
   "source": [
    "# para n Impar \n",
    "List=[1,2,3,4,5]  \n",
    "Q1=(len(List)+1)*0.25\n",
    "Q2=(len(List)+1)*0.5\n",
    "Q3=(len(List)+1)*0.75\n",
    "print('Primer cuartil :', Q1)\n",
    "print(Q2) \n",
    "print(Q3)"
   ]
  },
  {
   "cell_type": "code",
   "execution_count": 24,
   "id": "5f5280e5",
   "metadata": {},
   "outputs": [
    {
     "name": "stdout",
     "output_type": "stream",
     "text": [
      "Primer cuartil : 1.75\n",
      "3.5\n",
      "5.25\n"
     ]
    }
   ],
   "source": [
    "List=[1,2,3,4,5] \n",
    "Q1=(len(List)+2)*0.25\n",
    "Q2=(len(List)+2)*0.5\n",
    "Q3=(len(List)+2)*0.75\n",
    "print('Primer cuartil :', Q1)\n",
    "print(Q2) \n",
    "print(Q3)\n",
    "\n",
    "# Es mejr ordena rlos dato y ahcerlo a ojo "
   ]
  },
  {
   "cell_type": "code",
   "execution_count": 25,
   "id": "21eec1fa",
   "metadata": {},
   "outputs": [
    {
     "data": {
      "text/plain": [
       "count    5.000000\n",
       "mean     3.000000\n",
       "std      1.581139\n",
       "min      1.000000\n",
       "25%      2.000000\n",
       "50%      3.000000\n",
       "75%      4.000000\n",
       "max      5.000000\n",
       "dtype: float64"
      ]
     },
     "execution_count": 25,
     "metadata": {},
     "output_type": "execute_result"
    }
   ],
   "source": [
    "s = pd.Series([1, 2, 3, 4, 5])\n",
    "s.describe()"
   ]
  },
  {
   "cell_type": "markdown",
   "id": "8f445090",
   "metadata": {},
   "source": [
    "## percentiles \n",
    "- Son los 99 valores iguales denotados por P1, P2\n",
    "- El percentil P50== a la mediana \n",
    "- El percentil p(Pp) es un valor de la variable tal que p\\% de la muestra es por debajo \n",
    "\n",
    "En un tabla de frecunecia el percentil se clacula:\n",
    "$$ nP/100$$\n",
    "siendo P={1,2,3....97,98,99} y  n el long  de la lisya (lista)"
   ]
  },
  {
   "cell_type": "markdown",
   "id": "eeae82ca",
   "metadata": {},
   "source": [
    "## Ejemplo\n",
    "\n",
    "La evaluacion de 24 clientes sobre el servicio de atencipón  al cliente d euna empresa de ventas e instalciones de aparatos de ventilación son (puntuados entre 0 y 10)"
   ]
  },
  {
   "cell_type": "code",
   "execution_count": 26,
   "id": "fe2856ec",
   "metadata": {},
   "outputs": [
    {
     "name": "stdout",
     "output_type": "stream",
     "text": [
      "[1, 2, 2, 2, 2, 3, 3, 3, 4, 4, 4, 5, 5, 5, 6, 6, 6, 6, 7, 7, 7, 7, 8, 8, 9]\n"
     ]
    }
   ],
   "source": [
    "\n",
    "EVA=[3,6,6,8,2,5,7,3,8,1,5,6,4,4,2,5,6,2,9,4,2,3,7,7,7]\n",
    "#P85= len(Evaluacion)*85/100\n",
    "EVA.sort()\n",
    "print(EVA)\n",
    "Evaluacion =pd.Series(EVA)"
   ]
  },
  {
   "cell_type": "code",
   "execution_count": 27,
   "id": "6556ccc9",
   "metadata": {},
   "outputs": [
    {
     "data": {
      "text/plain": [
       "1    1\n",
       "2    4\n",
       "3    3\n",
       "4    3\n",
       "5    3\n",
       "6    4\n",
       "7    4\n",
       "8    2\n",
       "9    1\n",
       "dtype: int64"
      ]
     },
     "execution_count": 27,
     "metadata": {},
     "output_type": "execute_result"
    }
   ],
   "source": [
    "\n",
    "Eva=Evaluacion.value_counts(sort=False)\n",
    "Eva"
   ]
  },
  {
   "cell_type": "markdown",
   "id": "1f5ece3b",
   "metadata": {},
   "source": [
    "#  Representación de datos \n",
    "Cajas   xmin |---Q1[ |Q2 ]Q3---|xmax"
   ]
  },
  {
   "cell_type": "markdown",
   "id": "1ef0d829",
   "metadata": {},
   "source": [
    "# Ejemplo\n",
    "\n",
    "Datos asociados alas calificaciones de un examén. \n",
    "\n",
    "Encontrar \n",
    "1. Q1\n",
    "2. Q2, \n",
    "3. Q3 \n",
    "los valores\n",
    "4. max y min \n",
    "5. Crea recta q cpmtega lso datos \n",
    "6. diagrqma de box \n"
   ]
  },
  {
   "cell_type": "code",
   "execution_count": 28,
   "id": "a9945a7d",
   "metadata": {},
   "outputs": [
    {
     "data": {
      "text/plain": [
       "count    15.000000\n",
       "mean     77.333333\n",
       "std      11.393398\n",
       "min      53.000000\n",
       "25%      69.500000\n",
       "50%      79.000000\n",
       "75%      86.000000\n",
       "max      94.000000\n",
       "dtype: float64"
      ]
     },
     "execution_count": 28,
     "metadata": {},
     "output_type": "execute_result"
    }
   ],
   "source": [
    "\n",
    "Calificaciones=[90, 94, 53,68, 79,84,87,72,70,69,65,89,85,83,72]\n",
    "Calificaciones.sort()\n",
    "Cal=pd.Series(Calificaciones)\n",
    "Cal.describe()"
   ]
  },
  {
   "cell_type": "code",
   "execution_count": 29,
   "id": "e6fbdfe2",
   "metadata": {},
   "outputs": [
    {
     "data": {
      "text/plain": [
       "<function matplotlib.pyplot.show(close=None, block=None)>"
      ]
     },
     "execution_count": 29,
     "metadata": {},
     "output_type": "execute_result"
    },
    {
     "data": {
      "image/png": "[encoded data removed]",
      "text/plain": [
       "<Figure size 576x576 with 1 Axes>"
      ]
     },
     "metadata": {
      "needs_background": "light"
     },
     "output_type": "display_data"
    }
   ],
   "source": [
    "fig=plt.figure(figsize=(8,8))\n",
    "plt.boxplot(Cal)\n",
    "plt.show"
   ]
  },
  {
   "cell_type": "code",
   "execution_count": 30,
   "id": "f72873e6",
   "metadata": {},
   "outputs": [
    {
     "data": {
      "text/plain": [
       "{'whiskers': [<matplotlib.lines.Line2D at 0x1bd3ffe52b0>,\n",
       "  <matplotlib.lines.Line2D at 0x1bd3ffe5580>],\n",
       " 'caps': [<matplotlib.lines.Line2D at 0x1bd3ffe5850>,\n",
       "  <matplotlib.lines.Line2D at 0x1bd3ffe5b20>],\n",
       " 'boxes': [<matplotlib.lines.Line2D at 0x1bd3ffdbfa0>],\n",
       " 'medians': [<matplotlib.lines.Line2D at 0x1bd3ffe5df0>],\n",
       " 'fliers': [<matplotlib.lines.Line2D at 0x1bd3fff4100>],\n",
       " 'means': []}"
      ]
     },
     "execution_count": 30,
     "metadata": {},
     "output_type": "execute_result"
    },
    {
     "data": {
      "image/png": "[encoded data removed]",
      "text/plain": [
       "<Figure size 432x288 with 1 Axes>"
      ]
     },
     "metadata": {
      "needs_background": "light"
     },
     "output_type": "display_data"
    }
   ],
   "source": [
    "red_square = dict(markerfacecolor='r', marker='s')\n",
    "fig1, ax1 =plt.subplots()\n",
    "ax1.set_title('Calificaciones')\n",
    "ax1.boxplot(Cal, flierprops=red_square, vert=False, whis=0.75)"
   ]
  },
  {
   "cell_type": "code",
   "execution_count": 31,
   "id": "78ea83f7",
   "metadata": {},
   "outputs": [
    {
     "data": {
      "text/plain": [
       "<AxesSubplot:>"
      ]
     },
     "execution_count": 31,
     "metadata": {},
     "output_type": "execute_result"
    },
    {
     "data": {
      "image/png": "[encoded data removed]",
      "text/plain": [
       "<Figure size 432x288 with 1 Axes>"
      ]
     },
     "metadata": {
      "needs_background": "light"
     },
     "output_type": "display_data"
    }
   ],
   "source": [
    "sns.boxplot(x = Cal, color='c')\n"
   ]
  },
  {
   "cell_type": "code",
   "execution_count": 32,
   "id": "46aaf479",
   "metadata": {},
   "outputs": [
    {
     "data": {
      "text/html": [
       "<div>\n",
       "<style scoped>\n",
       "    .dataframe tbody tr th:only-of-type {\n",
       "        vertical-align: middle;\n",
       "    }\n",
       "\n",
       "    .dataframe tbody tr th {\n",
       "        vertical-align: top;\n",
       "    }\n",
       "\n",
       "    .dataframe thead th {\n",
       "        text-align: right;\n",
       "    }\n",
       "</style>\n",
       "<table border=\"1\" class=\"dataframe\">\n",
       "  <thead>\n",
       "    <tr style=\"text-align: right;\">\n",
       "      <th></th>\n",
       "      <th>283.6</th>\n",
       "    </tr>\n",
       "  </thead>\n",
       "  <tbody>\n",
       "    <tr>\n",
       "      <th>count</th>\n",
       "      <td>28.000000</td>\n",
       "    </tr>\n",
       "    <tr>\n",
       "      <th>mean</th>\n",
       "      <td>219.467857</td>\n",
       "    </tr>\n",
       "    <tr>\n",
       "      <th>std</th>\n",
       "      <td>29.421623</td>\n",
       "    </tr>\n",
       "    <tr>\n",
       "      <th>min</th>\n",
       "      <td>111.000000</td>\n",
       "    </tr>\n",
       "    <tr>\n",
       "      <th>25%</th>\n",
       "      <td>207.600000</td>\n",
       "    </tr>\n",
       "    <tr>\n",
       "      <th>50%</th>\n",
       "      <td>221.850000</td>\n",
       "    </tr>\n",
       "    <tr>\n",
       "      <th>75%</th>\n",
       "      <td>231.150000</td>\n",
       "    </tr>\n",
       "    <tr>\n",
       "      <th>max</th>\n",
       "      <td>269.400000</td>\n",
       "    </tr>\n",
       "  </tbody>\n",
       "</table>\n",
       "</div>"
      ],
      "text/plain": [
       "            283.6\n",
       "count   28.000000\n",
       "mean   219.467857\n",
       "std     29.421623\n",
       "min    111.000000\n",
       "25%    207.600000\n",
       "50%    221.850000\n",
       "75%    231.150000\n",
       "max    269.400000"
      ]
     },
     "execution_count": 32,
     "metadata": {},
     "output_type": "execute_result"
    }
   ],
   "source": [
    "datos=pd.read_csv('Salto_esqui.csv')\n",
    "datos.describe()"
   ]
  },
  {
   "cell_type": "markdown",
   "id": "f2090dc1",
   "metadata": {},
   "source": [
    "## Asimetría \n",
    "Simetria: coincide la media la moda y la variaza\n",
    "\n",
    "Asimetría negativa = media $\\bar{x}$ es menor que la moda Mo y mediana  Me\n",
    "\n",
    "Asimetría Positiva = media es mayor que la moda y la mediana\n",
    " \n",
    "## Coeficiente de KARL PEARSON \n",
    "\n",
    "$$A_s= \\frac{3(\\bar{x} - Me)}{s} $$\n",
    "\n",
    "\n",
    "Elcoeficiente varía entre -3 y 3\n",
    "- Si As< 0 será simetrica negativa\n",
    "- Si As> 0 Será simetrica positiva\n",
    "- Si As=0 es simetrica\n",
    "\n",
    "# Medida cuatilica  yule Bowley\n",
    "$$ A_s= \\frac{Q_1+Q_3- 2Q_2}{Q_3-Q_1}$$\n",
    "\n",
    "Elcoeficiente varía entre -1 y 1\n",
    "- Si As< 0 será simetrica negativa\n",
    "- Si As> 0 Será simetrica positiva\n",
    "- Si As=0 es simetrica\n",
    "# Medida Fisher\n",
    "Datos sin agrupar \n",
    "\n",
    " $$A_s=\\frac{\\sum_{i=1}^{n} (x_i - \\bar{x})^3} {ns^3} $$\n",
    " \n",
    " \n",
    "Datos Agrupado por Frecuencia \n",
    "$$A_s=\\frac{\\sum_{i=1}^{k} n_i(x_i - \\bar{x})^3} {ns^3} $$\n",
    "\n",
    "\n",
    "Datos Agrupado por Intervalos \n",
    "$$A_s=\\frac{\\sum_{i=1}^{k} n_i(x_{mi} - \\bar{x})^3} {ns^3} $$\n",
    "\n",
    "donde  x_{mi} es la marca de la clase n_i la frecuencia para cada clase y k es el numero de calses "
   ]
  },
  {
   "cell_type": "markdown",
   "id": "625acc76",
   "metadata": {},
   "source": [
    "Ejercicio \n",
    "Los Datos acontinuación son los pesos de 80 personas \n",
    "1. Obtenga de uqe distibucion de datos en intervalos de amplitud 5, siendo el primer intervalor (50:55)\n",
    "2. Calcule el porcentaje de personas de menor a 65kg\n",
    "3. Cuantas personas tinen un peso mayor  o igual 75kg pero menor a 85kg"
   ]
  },
  {
   "cell_type": "code",
   "execution_count": 33,
   "id": "7a62998a",
   "metadata": {},
   "outputs": [
    {
     "data": {
      "text/html": [
       "<div>\n",
       "<style scoped>\n",
       "    .dataframe tbody tr th:only-of-type {\n",
       "        vertical-align: middle;\n",
       "    }\n",
       "\n",
       "    .dataframe tbody tr th {\n",
       "        vertical-align: top;\n",
       "    }\n",
       "\n",
       "    .dataframe thead th {\n",
       "        text-align: right;\n",
       "    }\n",
       "</style>\n",
       "<table border=\"1\" class=\"dataframe\">\n",
       "  <thead>\n",
       "    <tr style=\"text-align: right;\">\n",
       "      <th></th>\n",
       "      <th>60</th>\n",
       "    </tr>\n",
       "  </thead>\n",
       "  <tbody>\n",
       "    <tr>\n",
       "      <th>count</th>\n",
       "      <td>79.000000</td>\n",
       "    </tr>\n",
       "    <tr>\n",
       "      <th>mean</th>\n",
       "      <td>67.113924</td>\n",
       "    </tr>\n",
       "    <tr>\n",
       "      <th>std</th>\n",
       "      <td>6.193436</td>\n",
       "    </tr>\n",
       "    <tr>\n",
       "      <th>min</th>\n",
       "      <td>52.000000</td>\n",
       "    </tr>\n",
       "    <tr>\n",
       "      <th>25%</th>\n",
       "      <td>63.000000</td>\n",
       "    </tr>\n",
       "    <tr>\n",
       "      <th>50%</th>\n",
       "      <td>67.000000</td>\n",
       "    </tr>\n",
       "    <tr>\n",
       "      <th>75%</th>\n",
       "      <td>70.500000</td>\n",
       "    </tr>\n",
       "    <tr>\n",
       "      <th>max</th>\n",
       "      <td>83.000000</td>\n",
       "    </tr>\n",
       "  </tbody>\n",
       "</table>\n",
       "</div>"
      ],
      "text/plain": [
       "              60\n",
       "count  79.000000\n",
       "mean   67.113924\n",
       "std     6.193436\n",
       "min    52.000000\n",
       "25%    63.000000\n",
       "50%    67.000000\n",
       "75%    70.500000\n",
       "max    83.000000"
      ]
     },
     "execution_count": 33,
     "metadata": {},
     "output_type": "execute_result"
    }
   ],
   "source": [
    "#la variable aletoria es el peso\n",
    "pesos = pd.read_csv('pesosPerso.csv')\n",
    "Peso= pesos.sort_values('60')\n",
    "Peso. describe()"
   ]
  },
  {
   "cell_type": "code",
   "execution_count": 34,
   "id": "9abd9c3d",
   "metadata": {},
   "outputs": [
    {
     "data": {
      "text/plain": [
       "array([[60, 63],\n",
       "       [63, 66],\n",
       "       [66, 69],\n",
       "       [69, 72],\n",
       "       [72, 75]])"
      ]
     },
     "execution_count": 34,
     "metadata": {},
     "output_type": "execute_result"
    }
   ],
   "source": [
    "# rta1\n",
    "FA= Peso.value_counts(sort=False)\n",
    "Int"
   ]
  },
  {
   "cell_type": "code",
   "execution_count": 35,
   "id": "b59ad4e2",
   "metadata": {},
   "outputs": [],
   "source": [
    "Intervalo=[[50,55],[55,60],[60,65], [65,70], [65,70],[70,75],[80,83]] \n",
    "FA=[2, 7,17, 30,14,7,3]\n",
    "FAA=[2, 9,26,56,70,77,80 ]"
   ]
  },
  {
   "cell_type": "code",
   "execution_count": 36,
   "id": "3cf4b0ea",
   "metadata": {},
   "outputs": [
    {
     "name": "stdout",
     "output_type": "stream",
     "text": [
      "(([50, 55], 2), ([55, 60], 7), ([60, 65], 17), ([65, 70], 30), ([65, 70], 14), ([70, 75], 7), ([80, 83], 3))\n",
      "# personas con menos de 65kg es: 32.5\n"
     ]
    },
    {
     "data": {
      "text/plain": [
       "(([50, 55], 2),\n",
       " ([55, 60], 7),\n",
       " ([60, 65], 17),\n",
       " ([65, 70], 30),\n",
       " ([65, 70], 14),\n",
       " ([70, 75], 7),\n",
       " ([80, 83], 3))"
      ]
     },
     "execution_count": 36,
     "metadata": {},
     "output_type": "execute_result"
    }
   ],
   "source": [
    "#Rta2. Calcule el porcentaje de personas de menor a 65kg\n",
    "\n",
    "Peso_65=tuple(zip(Intervalo, FA))\n",
    "print(Peso_65)\n",
    "print('# personas con menos de 65kg es:', (2+7+17)/80*100 )\n",
    "Peso_65"
   ]
  },
  {
   "cell_type": "code",
   "execution_count": 37,
   "id": "ebf61c2b",
   "metadata": {},
   "outputs": [
    {
     "data": {
      "text/plain": [
       "24.75"
      ]
     },
     "execution_count": 37,
     "metadata": {},
     "output_type": "execute_result"
    }
   ],
   "source": [
    "#Cuantas personas tinen un peso mayor  o igual 75kg pero menor a 85kg\n",
    "PESO=14+7+3/80*100\n",
    "PESO"
   ]
  },
  {
   "cell_type": "markdown",
   "id": "e985ae04",
   "metadata": {},
   "source": [
    "## EJERCICIO 2 \n",
    "CALCULAR LA MEDIA ARIMETICA, LA MEDIANA Y LA MODA, se analizo el IVA que se aplica, en adversos paises europes ala compra de obras de artes obtenidos fueron ñps sigueites : \n",
    "\n",
    "HAllar los cuartiles, rango intercuartilico y dibujar e boxplot \n",
    "Determine el rango o recorrido, la varianza, la desviación típica,\n",
    "\n",
    "1. El coeficiente de variación de Pearson\n",
    "2. El coeficiente de asimetría de Pearson \n",
    "3. El coeficiente de asimetría de Fisher."
   ]
  },
  {
   "cell_type": "code",
   "execution_count": 38,
   "id": "cefc21d4",
   "metadata": {},
   "outputs": [
    {
     "data": {
      "text/plain": [
       "[0.06, 0.06, 0.06, 0.07, 0.16, 0.17, 0.2, 0.22]"
      ]
     },
     "execution_count": 38,
     "metadata": {},
     "output_type": "execute_result"
    }
   ],
   "source": [
    "Pais=['España', 'Italia', 'Belgica','Holanda','Alemania','Portugal','Luxemburgo','Filandia ']\n",
    "IVA=[0.16,0.2 , 0.06,0.06, 0.07,0.17, 0.06, 0.22]\n",
    "IVA.sort()\n",
    "iva= pd.Series(IVA)\n",
    "IVA"
   ]
  },
  {
   "cell_type": "code",
   "execution_count": 39,
   "id": "ec58c32c",
   "metadata": {},
   "outputs": [
    {
     "name": "stdout",
     "output_type": "stream",
     "text": [
      "La media del iva: 0.125\n",
      "La mediana del IVA: 0.115\n",
      "La moda del IVA 0.06\n"
     ]
    }
   ],
   "source": [
    "#moda, mediana, media\n",
    "m=np.mean(IVA)\n",
    "print('La media del iva:', m)\n",
    "med=np.median(IVA)\n",
    "print('La mediana del IVA:',med )\n",
    "mod=stat.mode(IVA)\n",
    "print('La moda del IVA', mod)"
   ]
  },
  {
   "cell_type": "code",
   "execution_count": 40,
   "id": "44f4f989",
   "metadata": {},
   "outputs": [
    {
     "name": "stdout",
     "output_type": "stream",
     "text": [
      "primer cuartil 0.25\n"
     ]
    },
    {
     "data": {
      "text/plain": [
       "count    8.000000\n",
       "mean     0.125000\n",
       "std      0.069282\n",
       "min      0.060000\n",
       "25%      0.060000\n",
       "50%      0.115000\n",
       "75%      0.177500\n",
       "max      0.220000\n",
       "dtype: float64"
      ]
     },
     "execution_count": 40,
     "metadata": {},
     "output_type": "execute_result"
    }
   ],
   "source": [
    "#Cuartiles\n",
    "Q1=(len(IVA)+2)*0.025\n",
    "\n",
    "print('primer cuartil', Q1)\n",
    "iva.describe()\n",
    "\n"
   ]
  },
  {
   "cell_type": "code",
   "execution_count": 41,
   "id": "2c782879",
   "metadata": {},
   "outputs": [
    {
     "data": {
      "text/plain": [
       "<AxesSubplot:>"
      ]
     },
     "execution_count": 41,
     "metadata": {},
     "output_type": "execute_result"
    },
    {
     "data": {
      "image/png": "[encoded data removed]",
      "text/plain": [
       "<Figure size 432x288 with 1 Axes>"
      ]
     },
     "metadata": {
      "needs_background": "light"
     },
     "output_type": "display_data"
    }
   ],
   "source": [
    "# boxplot\n",
    "sns.boxplot(x = iva, color='c')"
   ]
  },
  {
   "cell_type": "code",
   "execution_count": 42,
   "id": "094b7fd2",
   "metadata": {},
   "outputs": [
    {
     "name": "stdout",
     "output_type": "stream",
     "text": [
      "El rango  del iva: 0.16\n",
      "La varianza  del IVA: 0.004200000000000001\n",
      "La desviación  del IVA 0.06480740698407861\n"
     ]
    }
   ],
   "source": [
    "# Rango , La virianza, La desviación \n",
    "Rang= np.max(IVA)- np.min(IVA) \n",
    "print('El rango  del iva:', Rang)\n",
    "varianza=np.var(IVA)\n",
    "print('La varianza  del IVA:', varianza)\n",
    "Desviacion=np.std(IVA)\n",
    "print('La desviación  del IVA', Desviacion)"
   ]
  },
  {
   "cell_type": "code",
   "execution_count": 43,
   "id": "2833f262",
   "metadata": {},
   "outputs": [
    {
     "name": "stdout",
     "output_type": "stream",
     "text": [
      "Coeficinete de variación  pearson: 51.84592558726288\n"
     ]
    }
   ],
   "source": [
    "#El coeficiente de variación de Pearson\n",
    "#$$A_s= \\frac{3(\\bar{x} - Me)}{s} $$\n",
    "#Coefiente de Pearson \n",
    "def pearson(Desviacion, m):\n",
    "    pearson =Desviacion/m*100\n",
    "    print ('Coeficinete de variación  pearson:', pearson)\n",
    "    return pearson\n",
    "Coef_pearson=pearson(Desviacion, m)"
   ]
  },
  {
   "cell_type": "code",
   "execution_count": 44,
   "id": "cacfa7e4",
   "metadata": {},
   "outputs": [
    {
     "name": "stdout",
     "output_type": "stream",
     "text": [
      "Coeficinete de asimetría de pearson 0.46291004988627543\n"
     ]
    }
   ],
   "source": [
    "#. El coeficiente de asimetría de Pearson \n",
    "def Asim_pearson(Desviacion,  m, med):\n",
    "    Aspearson =3*(m- med)/Desviacion\n",
    "    print ('Coeficinete de asimetría de pearson', Aspearson)\n",
    "    return Aspearson\n",
    "Coef_pearson2=Asim_pearson(Desviacion,  m, med)"
   ]
  },
  {
   "cell_type": "markdown",
   "id": "c8692271",
   "metadata": {},
   "source": [
    "# Ejercicio N3\n",
    "En la tabla se presenta la distribucion de minutos de publicidad vistos diriamente en espectadores en el mes de marzo del año pasado \n",
    "Calcule:\n",
    "1. mediana, media moda\n",
    "2. Desviación  coeficinte de variacion \n",
    "3. Asimetria de pearson \n"
   ]
  },
  {
   "cell_type": "code",
   "execution_count": 46,
   "id": "b6b03de2",
   "metadata": {},
   "outputs": [
    {
     "data": {
      "text/plain": [
       "20"
      ]
     },
     "execution_count": 46,
     "metadata": {},
     "output_type": "execute_result"
    }
   ],
   "source": [
    "minutos=np.array([[0,20], [20,40], [40,60],[60,80]])\n",
    "ni=[45,10,5,2]#Espectadores\n",
    "xi=[10,30,50,70]\n",
    "minutos[:,0]\n",
    "\n",
    "resta=[x-y for x, y in zip(minutos[:,1], minutos[:,0])]\n",
    "resta\n",
    "\n",
    "a=minutos[:,1]- minutos[:,0]\n",
    "a[1]"
   ]
  },
  {
   "cell_type": "code",
   "execution_count": 47,
   "id": "250322af",
   "metadata": {},
   "outputs": [
    {
     "name": "stdout",
     "output_type": "stream",
     "text": [
      "La media de los espectadores : 18.387096774193548\n"
     ]
    },
    {
     "data": {
      "text/plain": [
       "18.387096774193548"
      ]
     },
     "execution_count": 47,
     "metadata": {},
     "output_type": "execute_result"
    }
   ],
   "source": [
    "#moda, mediana, media\n",
    "def media(ni, xi):\n",
    "    xini=[x*y for x, y in zip(ni,xi)]\n",
    "    m=np.sum(xini)/np.sum(ni)\n",
    "    print('La media de los espectadores :', m)\n",
    "    return m\n",
    "    \n",
    "media(ni, xi)"
   ]
  },
  {
   "cell_type": "markdown",
   "id": "cf4795d3",
   "metadata": {},
   "source": [
    "\n",
    "# mediana\n",
    "Primero hay que localizar el intervalo de la mediana, que es donde la frecuencia\n",
    "absoluta acumulada llega hasta la mitad del total de datos. El total de datos es 62 y\n",
    "la mitad es 31, que cae en el primer intervalo [0,20] porque aquí es donde están de\n",
    "hecho los primeros 45 datos. Por lo cual este sería el intervalo de la mediana. En\n",
    "este caso el extremo inferior del intervalo es 𝐿𝑖 = 0, el total de datos habíamos\n",
    "dicho que es 𝑛 = 62, 𝑁𝑖−1 es la frecuencia absoluta acumulada de la clase o el\n",
    "intervalo anterior, como no hay ninguno porque el intervalo de la mediana coincide\n",
    "con el primer intervalo, entonces 𝑁𝑖−1 = 0 ya que no se han acumulado datos. La frecuencia absoluta de la clase de la mediana es 𝑛𝑖 = 45 y el tamaño del intervalo es\n",
    "𝑡𝑖 = 20"
   ]
  },
  {
   "cell_type": "code",
   "execution_count": 48,
   "id": "f90a59d2",
   "metadata": {},
   "outputs": [
    {
     "name": "stdout",
     "output_type": "stream",
     "text": [
      "La mediana de los espectadores: 13.777777777777779\n"
     ]
    }
   ],
   "source": [
    "Li=0\n",
    "Ni0=0\n",
    "Ni=ni[0]\n",
    "ti=a[1]\n",
    "\n",
    "def mediana(Li, ni, Ni0, Ni, ti):\n",
    "    me=Li +((np.sum(ni)/2 - Ni0)/Ni)*ti\n",
    "    print('La mediana de los espectadores:', me)\n",
    "    return me\n",
    "me= mediana(Li, ni, Ni0, Ni, ti)\n",
    "#mod=stat.mode(IVA)\n",
    "#print('La moda del IVA', mod)"
   ]
  },
  {
   "cell_type": "code",
   "execution_count": 49,
   "id": "212ff3bf",
   "metadata": {},
   "outputs": [
    {
     "name": "stdout",
     "output_type": "stream",
     "text": [
      "La moda del  11.25\n"
     ]
    },
    {
     "data": {
      "text/plain": [
       "11.25"
      ]
     },
     "execution_count": 49,
     "metadata": {},
     "output_type": "execute_result"
    }
   ],
   "source": [
    "Ni1=ni[1]\n",
    "#la moda \n",
    "def moda(Ni, Ni0, Ni1, ti):\n",
    "    mod=(Ni-Ni0)*ti/((Ni-Ni0)+(Ni-Ni1))\n",
    "    print('La moda del ', mod)\n",
    "    return mod\n",
    "moda(Ni, Ni0, Ni1, ti)"
   ]
  },
  {
   "cell_type": "code",
   "execution_count": 50,
   "id": "3096be2f",
   "metadata": {},
   "outputs": [
    {
     "name": "stdout",
     "output_type": "stream",
     "text": [
      "La media de los espectadores : 18.387096774193548\n",
      "varainza: 239.33402705515084\n",
      "Desviación típica: 15.470424268750707\n",
      "coeficente de variación: 0.8413739514583718\n"
     ]
    }
   ],
   "source": [
    "#varinza \n",
    "#Var=(x1^2*FA)/sum(FA - mean(xi*FA) 2)\n",
    "def Varianza(xi, FA):\n",
    "    \n",
    "    xi2=[i*j for i, j in zip(xi,xi) ]\n",
    "    product2=[x*y for x, y in zip(xi2, FA)]\n",
    "    b=np.sum(product2)/np.sum(FA)\n",
    "    m=media(FA, xi)\n",
    "    S=b-m**2\n",
    "    print('varainza:', S )\n",
    "    desv=np.sqrt(S)\n",
    "    print(f'Desviación típica:', desv)\n",
    "    covar= desv/m\n",
    "    print(f'coeficente de variación:',covar )\n",
    "    return m, S, covar, desv\n",
    "med, var, covar, desviacion=Varianza(xi, ni)\n",
    "\n",
    "#np.sum(product)/np.sum(FA) "
   ]
  },
  {
   "cell_type": "code",
   "execution_count": null,
   "id": "81f1d805",
   "metadata": {},
   "outputs": [],
   "source": []
  },
  {
   "cell_type": "code",
   "execution_count": 51,
   "id": "50b0e97f",
   "metadata": {},
   "outputs": [
    {
     "name": "stdout",
     "output_type": "stream",
     "text": [
      "La mediana de los espectadores: 13.777777777777779\n",
      "Coeficinete de asimetría de pearson -2.64752489148385\n",
      "18.387096774193548\n"
     ]
    }
   ],
   "source": [
    "#Asimetría de pearson\n",
    "per=Asim_pearson(desviacion,  m, mediana(Li, ni, Ni0, Ni, ti))\n",
    "print(med)"
   ]
  },
  {
   "cell_type": "markdown",
   "id": "0296939e",
   "metadata": {},
   "source": [
    "# Ejericio 4\n",
    "LA evalcuion de los veinte clinetes d eun ameepresa de ventas EVA puntiacio nde 0 a 10 \n",
    "1. mediana, media moda\n",
    "2. Desviación  coeficinte de variacion \n",
    "3. Intervalo centradi qye ctenga el 50% de la districuion "
   ]
  },
  {
   "cell_type": "code",
   "execution_count": 53,
   "id": "e24ee123",
   "metadata": {},
   "outputs": [
    {
     "name": "stdout",
     "output_type": "stream",
     "text": [
      "Evalucion [1, 2, 2, 2, 2, 3, 3, 3, 4, 4, 4, 5, 5, 5, 6, 6, 6, 6, 7, 7, 7, 7, 8, 8, 9]\n",
      "xi: [1. 2. 3. 4. 5. 6. 7. 8. 9.]\n",
      "ni [1 4 3 3 3 4 4 2 1]\n",
      "fi [0.04, 0.16, 0.12, 0.12, 0.12, 0.16, 0.16, 0.08, 0.04]\n",
      "nixi2 [  1.  16.  27.  48.  75. 144. 196. 128.  81.]\n",
      "FRA [0.04, 0.2, 0.32, 0.44, 0.56, 0.7200000000000001, 0.8800000000000001, 0.9600000000000001, 1.0]\n"
     ]
    }
   ],
   "source": [
    "print('Evalucion',EVA)\n",
    "Xi= np.linspace(1,9, 9)\n",
    "print('xi:', Xi)\n",
    "Ni=np.array(Eva)\n",
    "print('ni', Ni)\n",
    "Fi=[] \n",
    "for i in (Ni):\n",
    "    f=i/len(EVA)\n",
    "    Fi.append(f)\n",
    "print('fi',Fi )\n",
    "nixi2=Ni*Xi*Xi\n",
    "print('nixi2',nixi2)\n",
    "FRA=[]\n",
    "j=0\n",
    "for i in Fi:\n",
    "    j=j+i\n",
    "    FRA.append(j)\n",
    "print('FRA', FRA)"
   ]
  },
  {
   "cell_type": "code",
   "execution_count": 54,
   "id": "be3382f5",
   "metadata": {},
   "outputs": [
    {
     "name": "stdout",
     "output_type": "stream",
     "text": [
      "La media de los espectadores : 4.88\n"
     ]
    },
    {
     "data": {
      "text/plain": [
       "4.88"
      ]
     },
     "execution_count": 54,
     "metadata": {},
     "output_type": "execute_result"
    }
   ],
   "source": [
    "# media \n",
    "media(Ni, Xi)"
   ]
  },
  {
   "cell_type": "code",
   "execution_count": 55,
   "id": "826bc64f",
   "metadata": {},
   "outputs": [
    {
     "name": "stdout",
     "output_type": "stream",
     "text": [
      "La media de los espectadores : 4.88\n",
      "varainza: 4.825600000000001\n",
      "Desviación típica: 2.1967248348393573\n",
      "coeficente de variación: 0.4501485317293765\n"
     ]
    }
   ],
   "source": [
    "med, var, covar, desviacion=Varianza(Xi, Ni)\n"
   ]
  },
  {
   "cell_type": "code",
   "execution_count": 56,
   "id": "cce747ef",
   "metadata": {},
   "outputs": [
    {
     "data": {
      "text/plain": [
       "count    9.000000\n",
       "mean     2.777778\n",
       "std      1.201850\n",
       "min      1.000000\n",
       "25%      2.000000\n",
       "50%      3.000000\n",
       "75%      4.000000\n",
       "max      4.000000\n",
       "dtype: float64"
      ]
     },
     "execution_count": 56,
     "metadata": {},
     "output_type": "execute_result"
    }
   ],
   "source": [
    "#Intervalo centradi qye ctenga el 50% de la districuion \n",
    "\n",
    "NI=pd.Series(Ni)\n",
    "NI.describe()"
   ]
  },
  {
   "cell_type": "code",
   "execution_count": 57,
   "id": "f802d3f6",
   "metadata": {},
   "outputs": [
    {
     "data": {
      "text/plain": [
       "<AxesSubplot:>"
      ]
     },
     "execution_count": 57,
     "metadata": {},
     "output_type": "execute_result"
    },
    {
     "data": {
      "image/png": "[encoded data removed]",
      "text/plain": [
       "<Figure size 432x288 with 1 Axes>"
      ]
     },
     "metadata": {
      "needs_background": "light"
     },
     "output_type": "display_data"
    }
   ],
   "source": [
    "# 50 % correponde a la casilla 5\n",
    "sns.boxplot(x = NI, color='c')"
   ]
  },
  {
   "cell_type": "code",
   "execution_count": null,
   "id": "4156682f",
   "metadata": {},
   "outputs": [],
   "source": []
  }
 ],
 "metadata": {
  "kernelspec": {
   "display_name": "Python 3 (ipykernel)",
   "language": "python",
   "name": "python3"
  },
  "language_info": {
   "codemirror_mode": {
    "name": "ipython",
    "version": 3
   },
   "file_extension": ".py",
   "mimetype": "text/x-python",
   "name": "python",
   "nbconvert_exporter": "python",
   "pygments_lexer": "ipython3",
   "version": "3.9.12"
  }
 },
 "nbformat": 4,
 "nbformat_minor": 5
}
