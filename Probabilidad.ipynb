{
 "cells": [
  {
   "cell_type": "markdown",
   "id": "0c1c544c",
   "metadata": {},
   "source": [
    "<h2><font color=\"#004D7F\" size=6>Probabilidad </font></h2>\n",
    "\n",
    "\n",
    "\n",
    "<br><br>\n",
    "<div style=\"text-align: right\">\n",
    "<font color=\"#004D7F\" size=3>Danyela Luengas</font><br>\n",
    "<font color=\"#004D7F\" size=3>Probabilidad  con Python</font><br>"
   ]
  },
  {
   "cell_type": "code",
   "execution_count": 6,
   "id": "fff15a20",
   "metadata": {},
   "outputs": [],
   "source": [
    "import cv2 as cv\n",
    "import numpy as np\n",
    "import matplotlib.pyplot as plt\n",
    "from PIL import Image, ImageDraw\n",
    "from matplotlib import style\n",
    "import matplotlib.ticker as ticker\n",
    "import seaborn as sns\n",
    "import pandas as pd\n",
    "import statistics as stat"
   ]
  },
  {
   "cell_type": "markdown",
   "id": "afbb9f6b",
   "metadata": {},
   "source": [
    "# Espacio muestral:\n",
    "conjunto de todas las posibilidades del experiemnto\n",
    "$\\Omega ={1,2,3,4,5,6}$ \n",
    "\n",
    "# suceso elemental \n",
    "Cada elmento del espacio muestral\n",
    "$\\Omega ={1},{2},{3},{4},{5},{6}$ \n",
    "# suceso comeutno \n",
    "sub conjuntos del esapio mutal \n",
    "$A ={2,4,6}$ par \n",
    "\n",
    "$B ={1,3,5}$  impar \n",
    "$C={5,6}$\n",
    "$A\\cap B=0$\n",
    "$A\\cup B=6$\n",
    "$A^c=B$\n",
    "B\\C={1,3}$"
   ]
  },
  {
   "cell_type": "markdown",
   "id": "8e859c14",
   "metadata": {},
   "source": [
    "# leyes de morgan \n",
    "1. $(A\\cup B)^c= A^c \\cap B^c$\n",
    "2. $(A\\cap B)^c= A^c \\cup B^c$"
   ]
  },
  {
   "cell_type": "markdown",
   "id": "77ec4c41",
   "metadata": {},
   "source": [
    "# Probabilidad\n",
    "Axiomas\n",
    "1. $P(A)\\geq 0 $ para todo suces A $\\in$  f\n",
    "2. $P(\\Omega) =1$\n",
    "3. $P(A\\cup B)=P(A)+ P(B) $ incompatibles (intercepcion vacio)\n",
    "\n",
    "Consecuencias \n",
    "1. probapibilida $P(A^c)=1 -P(A)$\n",
    "\n",
    "2. $P(\\empyset)=0$\n",
    "3. $ A \\subseteq B$ entonces  $P(A) \\leq  P(B)$\n",
    "4. A={e_1,......, e_n}finito(inifnito numeros numerables, $P(A)= \\sum_{i=1}^{n} P({e_i})$\n",
    "\n",
    "$$P(A\\cup B)= P(A) + P(B) - P(A\\cap B) $$\n",
    "\n",
    "\n"
   ]
  },
  {
   "cell_type": "markdown",
   "id": "35a5f587",
   "metadata": {},
   "source": [
    "# DADO \n",
    "PROBABILIDAD DE SUCESOS ELEMENTALES\n",
    "$P({i})=\\frac{1}{6}$ ,    $\\forall  i = 1, ... , 6$\n",
    "\n",
    "Probabilidad de qe salga PAR\n",
    "$$P(A)=\\frac{n(A)}{n(\\Omega)}=\\frac{3}{6}=\\frac{1}{2}$$\n",
    "A={2,4,6}\n",
    "$P(A)=P({2}), P({4}), P({6})= \\frac{2}{6}=\\frac{1}{3}$\n",
    "\n",
    "PROBBABILIDAD  Q SALGA PAR MAYOR A 3 \n",
    "$$P(A\\cup B)= P(A) + P(B) - P(A\\cap B) $$\n",
    "$(A\\cap B) ={4, 6}=$ ENTOCNES $P(A\\cap B)=\\frac{2}{6}=\\frac{1}{2} $\n",
    "\n",
    "\n",
    "$P(A\\cup B)=\\frac{1}{2}+\\frac{1}{2}- \\frac{1}{3}=\\frac{2}{3}$\n"
   ]
  },
  {
   "cell_type": "markdown",
   "id": "7c3eccbd",
   "metadata": {},
   "source": [
    "# PROBABILIDAD CONDICIONADA \n",
    "$\\Omega = {(H,I), (H,N), (H,S), (N,I), (N,N), ( N,S)} $\n",
    "\n",
    "\n",
    "        probbilidad A   dado que ocurrio  B  (con $P(B)\\neq 0$\n",
    "$P(A|B)= \\frac{P(A\\cap B)}{P(B)}$\n"
   ]
  },
  {
   "cell_type": "code",
   "execution_count": 7,
   "id": "625cb289",
   "metadata": {},
   "outputs": [
    {
     "data": {
      "text/html": [
       "<div>\n",
       "<style scoped>\n",
       "    .dataframe tbody tr th:only-of-type {\n",
       "        vertical-align: middle;\n",
       "    }\n",
       "\n",
       "    .dataframe tbody tr th {\n",
       "        vertical-align: top;\n",
       "    }\n",
       "\n",
       "    .dataframe thead th {\n",
       "        text-align: right;\n",
       "    }\n",
       "</style>\n",
       "<table border=\"1\" class=\"dataframe\">\n",
       "  <thead>\n",
       "    <tr style=\"text-align: right;\">\n",
       "      <th></th>\n",
       "      <th>Datos</th>\n",
       "      <th>Inauficiente</th>\n",
       "      <th>normal</th>\n",
       "      <th>sobrepeso</th>\n",
       "      <th>total</th>\n",
       "    </tr>\n",
       "  </thead>\n",
       "  <tbody>\n",
       "    <tr>\n",
       "      <th>0</th>\n",
       "      <td>hipert</td>\n",
       "      <td>2</td>\n",
       "      <td>8</td>\n",
       "      <td>10</td>\n",
       "      <td>20</td>\n",
       "    </tr>\n",
       "    <tr>\n",
       "      <th>1</th>\n",
       "      <td>Normal</td>\n",
       "      <td>20</td>\n",
       "      <td>45</td>\n",
       "      <td>15</td>\n",
       "      <td>80</td>\n",
       "    </tr>\n",
       "    <tr>\n",
       "      <th>2</th>\n",
       "      <td>total</td>\n",
       "      <td>22</td>\n",
       "      <td>53</td>\n",
       "      <td>25</td>\n",
       "      <td>100</td>\n",
       "    </tr>\n",
       "  </tbody>\n",
       "</table>\n",
       "</div>"
      ],
      "text/plain": [
       "    Datos  Inauficiente  normal  sobrepeso  total\n",
       "0  hipert             2       8         10     20\n",
       "1  Normal            20      45         15     80\n",
       "2   total            22      53         25    100"
      ]
     },
     "execution_count": 7,
     "metadata": {},
     "output_type": "execute_result"
    }
   ],
   "source": [
    "f={'Datos':['hipert', 'Normal', 'total'],'Inauficiente':[2,20,22], 'normal':[8, 45,53], 'sobrepeso':[10,15,25],'total':[20,80,100]}\n",
    "TensionPeso=pd.DataFrame(data=f)\n",
    "TensionPeso"
   ]
  },
  {
   "cell_type": "code",
   "execution_count": 8,
   "id": "2dba1272",
   "metadata": {},
   "outputs": [],
   "source": [
    "# probabilidad de A  = el ejecutivo sea hipertenso \n",
    "Pa=20/100 "
   ]
  },
  {
   "cell_type": "markdown",
   "id": "60b425d2",
   "metadata": {},
   "source": [
    "probbilidad A es (hipertenso) dado B( tiene sobrepeso)\n",
    "$P(A|B)$\n",
    "\n",
    "$P(A\\cap B)= P(A)* P(B)$# sucesos indepedientes\n",
    "\n",
    "PROPIEDAD \n",
    "\n",
    "SI$ P(B)> 0$\n",
    "\n",
    "\n",
    "A y B SON independientes   $P(A|B)=P(A)$\n",
    "\n",
    "\n",
    "# Ejercicio dado\n",
    "\n",
    " suceso A par\n",
    " \n",
    " \n",
    "suceso B  mayorque 2\n",
    "\n",
    "$P(A|B)= \\frac{P(A\\cap B)}{P(B)}= \\frac{2/6}{4/6}=\\frac{1}{2}$"
   ]
  },
  {
   "cell_type": "markdown",
   "id": "8ae58a76",
   "metadata": {},
   "source": [
    "# PROBABLIDAD TOTAL \n",
    "Suceso B1, B2,... Bk excluyentes\n",
    "\n",
    "$$B_i\\cap B_j= \\empyset$$ para $i\\neq j$\n",
    " SE CUMPLE QUE \n",
    "    $\\Omega = B_1 \\cup B_2 \\cup....\\cup B_k$\n",
    "    \n",
    "    \n",
    "    \n"
   ]
  },
  {
   "cell_type": "markdown",
   "id": "fc3febee",
   "metadata": {},
   "source": [
    "## Independencia probabilística (independencia de eventos)\n",
    "\n",
    "Sea $E$ un experimento y $\\Omega$ el espacio muestral correspondiente. Consideremos $A$ y $B$ eventos disjuntos en $\\Omega$, decimos que $A$ es **independiente** de $B$, denotado como $A\\perp B$, si se cumple la siguiente igualdad:\n",
    "\n",
    "$$P(A|B)={P(A\\cap B)\\over P(B)}= P(A)$$ \n",
    "\n",
    "siempre que \n",
    "\n",
    "$$B \\neq \\phi~,~P(B)\\neq 0$$\n",
    "\n",
    "y esta implica que\n",
    "\n",
    "$$P(B|A)=P(B)$$\n",
    "\n",
    "y por lo tanto se requiere que \n",
    "\n",
    "$$A \\neq \\phi~,~P(A)\\neq 0$$\n",
    "\n",
    "De lo anterior se puede concluir que si $A$ es independiente de $B$ la regla de la multiplicación se transforma en:\n",
    "\n",
    "$$P(A\\cap B) = P(A|B)P(B) = P(A)P(B|A) = P(A)P(B)$$\n",
    "\n",
    "Vale la pena considerar el caso especial en el que $A\\cap B = \\phi$, es decir $A$ y $B$ son **eventos mutuamente excluyentes**, tenemos que:\n",
    "\n",
    "$$P(A\\cap B) = 0 $$\n",
    "\n",
    "y entonces podemos concluir que:\n",
    "\n",
    "$$P(A|B) = {0 \\over P(B)} = 0 = {0 \\over P(A)} = P(B|A)$$\n",
    "\n",
    "Este concepto es uno de los más importantes en probabilidad y estadística, ya que varios de los modelos o algoritmos que se les desea aplicar a un conjunto de datos presuponen que éstos están conformados por observaciones o unidades estadísticas independientes entre sí, es decir que la ocurrencia o el valor que toma alguna observación no condiciona la ocurrencia de las demás.\n",
    "\n"
   ]
  },
  {
   "cell_type": "code",
   "execution_count": null,
   "id": "029ce205",
   "metadata": {},
   "outputs": [],
   "source": []
  },
  {
   "cell_type": "code",
   "execution_count": 9,
   "id": "c8594450",
   "metadata": {},
   "outputs": [],
   "source": []
  },
  {
   "cell_type": "code",
   "execution_count": null,
   "id": "199103fc",
   "metadata": {},
   "outputs": [],
   "source": []
  },
  {
   "cell_type": "code",
   "execution_count": null,
   "id": "d49ab5a6",
   "metadata": {},
   "outputs": [],
   "source": []
  },
  {
   "cell_type": "code",
   "execution_count": null,
   "id": "6fe0e34e",
   "metadata": {},
   "outputs": [],
   "source": []
  },
  {
   "cell_type": "code",
   "execution_count": null,
   "id": "f1f385d2",
   "metadata": {},
   "outputs": [],
   "source": []
  },
  {
   "cell_type": "code",
   "execution_count": null,
   "id": "b8675e8d",
   "metadata": {},
   "outputs": [],
   "source": []
  },
  {
   "cell_type": "code",
   "execution_count": null,
   "id": "ae0ffc5e",
   "metadata": {},
   "outputs": [],
   "source": []
  },
  {
   "cell_type": "code",
   "execution_count": null,
   "id": "cfdcf5c6",
   "metadata": {},
   "outputs": [],
   "source": []
  },
  {
   "cell_type": "code",
   "execution_count": null,
   "id": "183e8b46",
   "metadata": {},
   "outputs": [],
   "source": []
  }
 ],
 "metadata": {
  "kernelspec": {
   "display_name": "Python 3 (ipykernel)",
   "language": "python",
   "name": "python3"
  },
  "language_info": {
   "codemirror_mode": {
    "name": "ipython",
    "version": 3
   },
   "file_extension": ".py",
   "mimetype": "text/x-python",
   "name": "python",
   "nbconvert_exporter": "python",
   "pygments_lexer": "ipython3",
   "version": "3.9.12"
  }
 },
 "nbformat": 4,
 "nbformat_minor": 5
}
